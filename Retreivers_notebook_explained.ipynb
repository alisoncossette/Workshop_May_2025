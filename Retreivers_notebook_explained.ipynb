{
 "cells": [
  {
   "cell_type": "markdown",
   "metadata": {},
   "source": [
    "# Neo4j GraphRAG Retriever Notebook (with Explanations)\n",
    "\n",
    "This notebook demonstrates how to use Neo4j and GraphRAG for retrieval-augmented generation (RAG) with asset manager and cybersecurity risk data.\n",
    "\n",
    "**Sections include:**\n",
    "- Environment and connection setup\n",
    "- LLM and embedder initialization\n",
    "- Vector and Cypher retrievers\n",
    "- Diagnostics for vector search\n",
    "- Example retrieval patterns\n",
    "- Common troubleshooting tips\n",
    "\n",
    "Each code cell is accompanied by a markdown explanation to help you understand what it does and how to adapt it for your own use cases.\n"
   ]
  },
  {
   "cell_type": "markdown",
   "metadata": {},
   "source": [
    "## 1. Environment and Connection Setup\n",
    "\n",
    "Load environment variables and connect to Neo4j and OpenAI. This ensures your credentials are not hardcoded in the notebook.\n"
   ]
  },
  {
   "cell_type": "code",
   "execution_count": null,
   "metadata": {},
   "outputs": [],
   "source": [
    "import os\n",
    "from dotenv import load_dotenv\n",
    "from neo4j import GraphDatabase\n",
    "\n",
    "load_dotenv()\n",
    "NEO4J_URI = os.getenv('NEO4J_URI')\n",
    "NEO4J_USER = os.getenv('NEO4J_USERNAME')\n",
    "NEO4J_PASSWORD = os.getenv('NEO4J_PASSWORD')\n",
    "openai_api_key = os.getenv('OPENAI_API_KEY')\n",
    "\n",
    "driver = GraphDatabase.driver(NEO4J_URI, auth=(NEO4J_USER, NEO4J_PASSWORD))\n"
   ]
  },
  {
   "cell_type": "markdown",
   "metadata": {},
   "source": [
    "## 2. LLM and Embedder Initialization\n",
    "\n",
    "Set up the language model and embedding model for use in retrieval and generation.\n"
   ]
  },
  {
   "cell_type": "code",
   "execution_count": null,
   "metadata": {},
   "outputs": [],
   "source": [
    "from neo4j_graphrag.llm import OpenAILLM\n",
    "from neo4j_graphrag.embeddings import OpenAIEmbeddings\n",
    "\n",
    "llm = OpenAILLM(model_name='gpt-3.5-turbo', api_key=openai_api_key)\n",
    "embedder = OpenAIEmbeddings(api_key=openai_api_key)\n"
   ]
  },
  {
   "cell_type": "markdown",
   "metadata": {},
   "source": [
    "## 3. Vector Retriever\n",
    "\n",
    "The vector retriever lets you search for the most relevant chunks of text using semantic similarity.\n"
   ]
  },
  {
   "cell_type": "code",
   "execution_count": null,
   "metadata": {},
   "outputs": [],
   "source": [
    "from neo4j_graphrag.retrievers import VectorRetriever\n",
    "\n",
    "vector_retriever = VectorRetriever(\n",
    "    driver=driver,\n",
    "    index_name='chunkEmbeddings',\n",
    "    embedder=embedder,\n",
    "    return_properties=['text']\n",
    ")\n"
   ]
  },
  {
   "cell_type": "markdown",
   "metadata": {},
   "source": [
    "## 4. Diagnostic: What Chunks Does the Vector Search Return?\n",
    "\n",
    "This cell helps you debug if your vector search is returning any chunks for a query. If no chunks are returned, check your index, embeddings, or try a broader query.\n"
   ]
  },
  {
   "cell_type": "code",
   "execution_count": null,
   "metadata": {},
   "outputs": [],
   "source": [
    "query = 'cybersecurity'\n",
    "vector_result = vector_retriever.search(query_text=query, top_k=10)\n",
    "docs = getattr(vector_result, 'documents', [])\n",
    "if docs:\n",
    "    for i, doc in enumerate(docs):\n",
    "        chunk_id = getattr(doc, 'id', None) or getattr(doc, 'element_id', None) or (doc.get('element_id') if isinstance(doc, dict) else None)\n",
    "        preview = getattr(doc, 'text', str(doc))[:80]\n",
    "        print(f'Chunk {i+1}: {chunk_id} | {preview}')\n",
    "else:\n",
    "    print('No chunks returned by vector search.')\n"
   ]
  },
  {
   "cell_type": "markdown",
   "metadata": {},
   "source": [
    "## 5. VectorCypherRetriever: Cypher-Augmented Retrieval\n",
    "\n",
    "Use this retriever to run Cypher queries starting from vector-retrieved chunks. Adjust the Cypher pattern to fit your data model.\n"
   ]
  },
  {
   "cell_type": "code",
   "execution_count": null,
   "metadata": {},
   "outputs": [],
   "source": [
    "from neo4j_graphrag.retrievers import VectorCypherRetriever\n",
    "from neo4j_graphrag.generation.graphrag import GraphRAG\n",
    "\n",
    "detail_context_query = \"\"\"\n",
    "    MATCH (node)-[:FROM_DOCUMENT]-(doc:Document)-[:FILED]-(cusip:Cusip6)-[:HAS_CUSIP]-(company:Company)\n",
    "    OPTIONAL MATCH (company)-[:FACES_RISK]-(r:RiskFactor)\n",
    "    RETURN node.text AS context, company.name AS company_name, collect(DISTINCT r) AS risks\n",
    "    LIMIT 10\n",
    "\"\"\"\n",
    "detail_context_cypher_retriever = VectorCypherRetriever(\n",
    "    driver=driver,\n",
    "    index_name='chunkEmbeddings',\n",
    "    embedder=embedder,\n",
    "    retrieval_query=detail_context_query\n",
    ")\n",
    "detail_context_cypher_rag = GraphRAG(llm=llm, retriever=detail_context_cypher_retriever)\n",
    "response = detail_context_cypher_rag.search(query, retriever_config={'top_k': 10})\n",
    "if hasattr(response, 'documents') and response.documents:\n",
    "    print('Chunks used by Detailed Search with Context:')\n",
    "    for i, doc in enumerate(response.documents):\n",
    "        chunk_id = getattr(doc, 'id', None) or getattr(doc, 'element_id', None) or (doc.get('element_id') if isinstance(doc, dict) else None)\n",
    "        print(f'Detail Context Chunk {i+1}: {chunk_id} | Preview: {getattr(doc, 'text', str(doc))[:80]}')\n",
    "if hasattr(response, 'results') and response.results:\n",
    "    print('Detailed Response:')\n",
    "    print(response.answer)\n",
    "else:\n",
    "    print('No results found: Check if Chunk-FROM_DOCUMENT-Document-FILED-Cusip6-HAS_CUSIP-Company relationships exist in your graph.')\n"
   ]
  },
  {
   "cell_type": "markdown",
   "metadata": {},
   "source": [
    "## 6. Text2CypherRetriever: Natural Language to Cypher\n",
    "\n",
    "This retriever converts a natural language question into a Cypher query using the LLM and your schema.\n",
    "\n",
    "**Note:** If you get a syntax error about triple backticks, the LLM may have returned the Cypher inside a markdown code block. Remove the backticks before running, or adjust the prompt to instruct the LLM not to use code blocks.\n"
   ]
  },
  {
   "cell_type": "code",
   "execution_count": null,
   "metadata": {},
   "outputs": [],
   "source": [
    "from neo4j_graphrag.retrievers import Text2CypherRetriever\n",
    "\n",
    "text2cypher_retriever = Text2CypherRetriever(\n",
    "    driver=driver,\n",
    "    llm=llm,\n",
    "    schema=\"\"\"\n",
    "        (:Chunk)-[:FROM_DOCUMENT]-(:Document)-[:FILED]-(:Cusip6)-[:HAS_CUSIP]-(:Company)\n",
    "        (:Company)-[:FACES_RISK]-(:RiskFactor)\n",
    "        (:Company)-[:MANAGED_BY]-(:AssetManager)\n",
    "    \"\"\"\n",
    ")\n",
    "query = 'Show me all companies managed by BlackRock and the risk factors they face.'\n",
    "response = text2cypher_retriever.search(query)\n",
    "if hasattr(response, 'results') and response.results:\n",
    "    print('--- Text2CypherRetriever Results ---')\n",
    "    for i, row in enumerate(response.results):\n",
    "        print(f'Result {i+1}: {row}')\n",
    "else:\n",
    "    print('No results found from Text2CypherRetriever. The LLM may not have generated a matching Cypher query or there may be no matching data.')\n"
   ]
  },
  {
   "cell_type": "markdown",
   "metadata": {},
   "source": [
    "## 7. Troubleshooting Tips\n",
    "\n",
    "- If no chunks are returned by vector search, try a broader query or check your index/embedding setup.\n",
    "- If you get Cypher syntax errors, check for markdown code blocks in the generated Cypher.\n",
    "- Use the notebook's diagnostic cells to debug data flow and retrieval patterns.\n",
    "- Check your Neo4j schema and data with Cypher queries in the Neo4j Browser.\n"
   ]
  }
 ],
 "metadata": {
  "kernelspec": {
   "display_name": "Python 3",
   "language": "python",
   "name": "python3"
  },
  "language_info": {
   "name": "python",
   "version": "3.10"
  }
 },
 "nbformat": 4,
 "nbformat_minor": 5
}
