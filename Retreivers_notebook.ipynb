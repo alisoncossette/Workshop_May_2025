{
 "cells": [
  {
   "cell_type": "markdown",
   "metadata": {},
   "source": [
    "# Neo4j GraphRAG Retriever Notebook\n",
    "\n",
    "This notebook demonstrates how to use various retrievers and Cypher patterns with Neo4j GraphRAG for asset manager and cybersecurity risk retrieval.\n"
   ]
  },
  {
   "cell_type": "code",
   "execution_count": null,
   "metadata": {},
   "outputs": [
    {
     "data": {
      "text/html": [
       "<style>.output_area pre {white-space: pre-wrap; word-break: break-word;}</style>"
      ],
      "text/plain": [
       "<IPython.core.display.HTML object>"
      ]
     },
     "metadata": {},
     "output_type": "display_data"
    }
   ],
   "source": [
    "import os\n",
    "from neo4j import GraphDatabase\n",
    "from neo4j_graphrag.llm import OpenAILLM\n",
    "from neo4j_graphrag.embeddings import OpenAIEmbeddings\n",
    "from neo4j_graphrag.retrievers import VectorRetriever, VectorCypherRetriever, Text2CypherRetriever\n",
    "from neo4j_graphrag.generation import GraphRAG\n",
    "from dotenv import load_dotenv\n",
    "import pandas as pd\n",
    "\n",
    "from IPython.display import display, HTML\n",
    "\n",
    "import textwrap\n",
    "\n",
    "from IPython.core.display import HTML\n",
    "display(HTML(\"<style>.output_area pre {white-space: pre-wrap; word-break: break-word;}</style>\"))\n",
    "\n",
    "# Load environment variables\n",
    "load_dotenv()\n",
    "NEO4J_URI = os.getenv('NEO4J_URI')\n",
    "NEO4J_USER = os.getenv('NEO4J_USERNAME')\n",
    "NEO4J_PASSWORD = os.getenv('NEO4J_PASSWORD')\n",
    "OPENAI_API_KEY = os.getenv('OPENAI_API_KEY')\n",
    "\n",
    "driver = GraphDatabase.driver(NEO4J_URI, auth=(NEO4J_USER, NEO4J_PASSWORD))\n"
   ]
  },
  {
   "cell_type": "code",
   "execution_count": 39,
   "metadata": {},
   "outputs": [],
   "source": [
    "# --- Initialize LLM and Embedder ---\n",
    "###model_params = {\"response_format\": {\"type\": \"json_object\"},  # use json_object formatting for best results\n",
    "###                \"temperature\": 0  # turning temperature down for more deterministic results\n",
    "###                }\n",
    "\n",
    "llm = OpenAILLM(model_name='gpt-4o', api_key=openai_api_key)\n",
    "embedder = OpenAIEmbeddings(api_key=openai_api_key)"
   ]
  },
  {
   "cell_type": "code",
   "execution_count": 64,
   "metadata": {},
   "outputs": [],
   "source": [
    "# --- Initialize Vector Retriever ---\n",
    "\n",
    "query = \"What are the risks that Apple faces?\"\n",
    "\n",
    "vector_retriever = VectorRetriever(\n",
    "    driver=driver,\n",
    "    index_name='chunkEmbeddings',\n",
    "    embedder=embedder,\n",
    "    return_properties=['text'])"
   ]
  },
  {
   "cell_type": "code",
   "execution_count": 65,
   "metadata": {},
   "outputs": [
    {
     "data": {
      "text/html": [
       "<div>\n",
       "<style scoped>\n",
       "    .dataframe tbody tr th:only-of-type {\n",
       "        vertical-align: middle;\n",
       "    }\n",
       "\n",
       "    .dataframe tbody tr th {\n",
       "        vertical-align: top;\n",
       "    }\n",
       "\n",
       "    .dataframe thead th {\n",
       "        text-align: right;\n",
       "    }\n",
       "</style>\n",
       "<table border=\"1\" class=\"dataframe\">\n",
       "  <thead>\n",
       "    <tr style=\"text-align: right;\">\n",
       "      <th></th>\n",
       "      <th>Score</th>\n",
       "      <th>Content</th>\n",
       "      <th>ID</th>\n",
       "    </tr>\n",
       "  </thead>\n",
       "  <tbody>\n",
       "    <tr>\n",
       "      <th>0</th>\n",
       "      <td>0.917770</td>\n",
       "      <td>the Company to potential liabilities, increase...</td>\n",
       "      <td>4:f86fa30c-6448-4779-bdfc-2f048de6bb86:1824</td>\n",
       "    </tr>\n",
       "    <tr>\n",
       "      <th>1</th>\n",
       "      <td>0.917770</td>\n",
       "      <td>the Company to potential liabilities, increase...</td>\n",
       "      <td>4:f86fa30c-6448-4779-bdfc-2f048de6bb86:4216</td>\n",
       "    </tr>\n",
       "    <tr>\n",
       "      <th>2</th>\n",
       "      <td>0.914780</td>\n",
       "      <td>relief against the Company, and has\\nfrom time...</td>\n",
       "      <td>4:f86fa30c-6448-4779-bdfc-2f048de6bb86:1823</td>\n",
       "    </tr>\n",
       "    <tr>\n",
       "      <th>3</th>\n",
       "      <td>0.914780</td>\n",
       "      <td>relief against the Company, and has\\nfrom time...</td>\n",
       "      <td>4:f86fa30c-6448-4779-bdfc-2f048de6bb86:4215</td>\n",
       "    </tr>\n",
       "    <tr>\n",
       "      <th>4</th>\n",
       "      <td>0.913116</td>\n",
       "      <td>in both\\nfrequency and sophistication with in...</td>\n",
       "      <td>4:f86fa30c-6448-4779-bdfc-2f048de6bb86:1817</td>\n",
       "    </tr>\n",
       "    <tr>\n",
       "      <th>5</th>\n",
       "      <td>0.913116</td>\n",
       "      <td>in both\\nfrequency and sophistication with in...</td>\n",
       "      <td>4:f86fa30c-6448-4779-bdfc-2f048de6bb86:4207</td>\n",
       "    </tr>\n",
       "    <tr>\n",
       "      <th>6</th>\n",
       "      <td>0.910446</td>\n",
       "      <td>interruptions can harm or disrupt internationa...</td>\n",
       "      <td>4:f86fa30c-6448-4779-bdfc-2f048de6bb86:4187</td>\n",
       "    </tr>\n",
       "    <tr>\n",
       "      <th>7</th>\n",
       "      <td>0.910446</td>\n",
       "      <td>interruptions can harm or disrupt internationa...</td>\n",
       "      <td>4:f86fa30c-6448-4779-bdfc-2f048de6bb86:1802</td>\n",
       "    </tr>\n",
       "    <tr>\n",
       "      <th>8</th>\n",
       "      <td>0.909439</td>\n",
       "      <td>impact the Company\\'s net sales to its indirec...</td>\n",
       "      <td>4:f86fa30c-6448-4779-bdfc-2f048de6bb86:4185</td>\n",
       "    </tr>\n",
       "    <tr>\n",
       "      <th>9</th>\n",
       "      <td>0.909439</td>\n",
       "      <td>impact the Company\\'s net sales to its indirec...</td>\n",
       "      <td>4:f86fa30c-6448-4779-bdfc-2f048de6bb86:1800</td>\n",
       "    </tr>\n",
       "  </tbody>\n",
       "</table>\n",
       "</div>"
      ],
      "text/plain": [
       "      Score                                            Content  \\\n",
       "0  0.917770  the Company to potential liabilities, increase...   \n",
       "1  0.917770  the Company to potential liabilities, increase...   \n",
       "2  0.914780  relief against the Company, and has\\nfrom time...   \n",
       "3  0.914780  relief against the Company, and has\\nfrom time...   \n",
       "4  0.913116   in both\\nfrequency and sophistication with in...   \n",
       "5  0.913116   in both\\nfrequency and sophistication with in...   \n",
       "6  0.910446  interruptions can harm or disrupt internationa...   \n",
       "7  0.910446  interruptions can harm or disrupt internationa...   \n",
       "8  0.909439  impact the Company\\'s net sales to its indirec...   \n",
       "9  0.909439  impact the Company\\'s net sales to its indirec...   \n",
       "\n",
       "                                            ID  \n",
       "0  4:f86fa30c-6448-4779-bdfc-2f048de6bb86:1824  \n",
       "1  4:f86fa30c-6448-4779-bdfc-2f048de6bb86:4216  \n",
       "2  4:f86fa30c-6448-4779-bdfc-2f048de6bb86:1823  \n",
       "3  4:f86fa30c-6448-4779-bdfc-2f048de6bb86:4215  \n",
       "4  4:f86fa30c-6448-4779-bdfc-2f048de6bb86:1817  \n",
       "5  4:f86fa30c-6448-4779-bdfc-2f048de6bb86:4207  \n",
       "6  4:f86fa30c-6448-4779-bdfc-2f048de6bb86:4187  \n",
       "7  4:f86fa30c-6448-4779-bdfc-2f048de6bb86:1802  \n",
       "8  4:f86fa30c-6448-4779-bdfc-2f048de6bb86:4185  \n",
       "9  4:f86fa30c-6448-4779-bdfc-2f048de6bb86:1800  "
      ]
     },
     "execution_count": 65,
     "metadata": {},
     "output_type": "execute_result"
    }
   ],
   "source": [
    "    # --- Simple Vector Search Diagnostic ---\n",
    "\n",
    "result = vector_retriever.search(query_text=query, top_k=10)\n",
    "result_table=pd.DataFrame([(item.metadata['score'], item.content[10:80], item.metadata['id']) for item in vector_result.items], columns=['Score', 'Content', 'ID'])\n",
    "result_table"
   ]
  },
  {
   "cell_type": "code",
   "execution_count": null,
   "id": "43ab17e4",
   "metadata": {},
   "outputs": [],
   "source": [
    "rag = GraphRAG(\n",
    "    llm=llm,\n",
    "    retriever=vector_retriever\n",
    ")\n",
    "#print(textwrap.fill(rag.search(query).answer, width=80))\n",
    "print(rag.search(query).answer)"
   ]
  },
  {
   "cell_type": "code",
   "execution_count": 68,
   "id": "af3edd9c",
   "metadata": {},
   "outputs": [
    {
     "data": {
      "text/html": [
       "<div>\n",
       "<style scoped>\n",
       "    .dataframe tbody tr th:only-of-type {\n",
       "        vertical-align: middle;\n",
       "    }\n",
       "\n",
       "    .dataframe tbody tr th {\n",
       "        vertical-align: top;\n",
       "    }\n",
       "\n",
       "    .dataframe thead th {\n",
       "        text-align: right;\n",
       "    }\n",
       "</style>\n",
       "<table border=\"1\" class=\"dataframe\">\n",
       "  <thead>\n",
       "    <tr style=\"text-align: right;\">\n",
       "      <th></th>\n",
       "      <th>Score</th>\n",
       "      <th>Content</th>\n",
       "      <th>ID</th>\n",
       "    </tr>\n",
       "  </thead>\n",
       "  <tbody>\n",
       "  </tbody>\n",
       "</table>\n",
       "</div>"
      ],
      "text/plain": [
       "Empty DataFrame\n",
       "Columns: [Score, Content, ID]\n",
       "Index: []"
      ]
     },
     "execution_count": 68,
     "metadata": {},
     "output_type": "execute_result"
    }
   ],
   "source": [
    "# --- VectorCypherRetriever Example: Detailed Search with Context ---\n",
    "\n",
    "query = \"What are the top risk factors that Apple faces?\"\n",
    "\n",
    "detail_context_query = \"\"\"\n",
    "    with node\n",
    "    MATCH (node)-[:FROM_DOCUMENT]-(doc:Document)-[:FILED]-(company:Company)-[:FACES_RISK]-(r:RiskFactor)\n",
    "    RETURN node.text AS context,  collect(DISTINCT r) AS risks\n",
    "    LIMIT 10\n",
    "\"\"\"\n",
    "vector_cypher_retriever = VectorCypherRetriever(\n",
    "    driver=driver,\n",
    "    index_name='chunkEmbeddings',\n",
    "    embedder=embedder,\n",
    "    retrieval_query=detail_context_query\n",
    ")\n",
    "\n",
    "result = vector_cypher_retriever.search(query_text=query, top_k=500)\n",
    "result_table=pd.DataFrame([(item.metadata['score'], item.content[10:80], item.metadata['id']) for item in result.items], columns=['Score', 'Content', 'ID'])\n",
    "result_table"
   ]
  },
  {
   "cell_type": "code",
   "execution_count": 62,
   "id": "c17a93dd",
   "metadata": {},
   "outputs": [
    {
     "ename": "NameError",
     "evalue": "name 'vector_cypher_retriever' is not defined",
     "output_type": "error",
     "traceback": [
      "\u001b[1;31m---------------------------------------------------------------------------\u001b[0m",
      "\u001b[1;31mNameError\u001b[0m                                 Traceback (most recent call last)",
      "Cell \u001b[1;32mIn[62], line 1\u001b[0m\n\u001b[1;32m----> 1\u001b[0m rag \u001b[38;5;241m=\u001b[39m GraphRAG(llm\u001b[38;5;241m=\u001b[39mllm, retriever\u001b[38;5;241m=\u001b[39mvector_cypher_retriever)\n\u001b[0;32m      2\u001b[0m \u001b[38;5;28mprint\u001b[39m(textwrap\u001b[38;5;241m.\u001b[39mfill(rag\u001b[38;5;241m.\u001b[39msearch(query)\u001b[38;5;241m.\u001b[39manswer, width\u001b[38;5;241m=\u001b[39m\u001b[38;5;241m80\u001b[39m))\n",
      "\u001b[1;31mNameError\u001b[0m: name 'vector_cypher_retriever' is not defined"
     ]
    }
   ],
   "source": [
    "rag = GraphRAG(llm=llm, retriever=vector_cypher_retriever)\n",
    "print(textwrap.fill(rag.search(query).answer, width=80))\n",
    "#print(rag.search(query).answer)"
   ]
  },
  {
   "cell_type": "code",
   "execution_count": 54,
   "id": "7a24a3cc",
   "metadata": {},
   "outputs": [
    {
     "data": {
      "text/plain": [
       "RetrieverResult(items=[], metadata={'__retriever': 'VectorCypherRetriever'})"
      ]
     },
     "execution_count": 54,
     "metadata": {},
     "output_type": "execute_result"
    }
   ],
   "source": [
    "response.retriever_result"
   ]
  },
  {
   "cell_type": "code",
   "execution_count": 49,
   "id": "5365e159",
   "metadata": {},
   "outputs": [
    {
     "data": {
      "text/plain": [
       "RawSearchResult(records=[], metadata=None)"
      ]
     },
     "execution_count": 49,
     "metadata": {},
     "output_type": "execute_result"
    }
   ],
   "source": [
    "some_var =detail_context_cypher_retriever.get_search_results(query_text=query,top_k=3)\n",
    "some_var"
   ]
  },
  {
   "cell_type": "code",
   "execution_count": 98,
   "id": "9634b81a",
   "metadata": {},
   "outputs": [
    {
     "name": "stdout",
     "output_type": "stream",
     "text": [
      "\n",
      "--- Question Answering ---\n",
      "\n",
      "Comparison Response:\n",
      "As of the latest data available up to October 2023, Apple and Microsoft both hold strong positions in the technology sector, each excelling in different areas of the market.\n",
      "\n",
      "Apple:\n",
      "1. **Consumer Electronics Dominance**: Apple is a leader in consumer electronics, particularly with its iPhone, iPad, and Mac product lines. The company has a loyal customer base and is known for its premium pricing strategy, which contributes to high profit margins.\n",
      "\n",
      "2. **Ecosystem and Services**: Apple's ecosystem, which includes the App Store, iCloud, Apple Music, and other services, creates a seamless user experience and generates a substantial portion of its revenue. The services segment has been growing steadily, providing recurring revenue streams.\n",
      "\n",
      "3. **Innovation**: Apple is renowned for its innovation in hardware and design, consistently setting trends within the market. This is evidenced by its development of new product lines such as Apple Watch and AirPods, which have been quite successful.\n",
      "\n",
      "Microsoft:\n",
      "1. **Software Leadership**: Microsoft dominates the software market with its Windows operating system and Office productivity suite. These products are widely used in both consumer and enterprise environments, offering stable and recurring revenue.\n",
      "\n",
      "2. **Cloud Computing**: Through its Azure platform, Microsoft has become a significant player in the cloud computing sector. Azure is frequently recognized as a primary competitor to Amazon Web Services (AWS), and this segment has been a major growth driver for the company.\n",
      "\n",
      "3. **Enterprise Solutions**: Microsoft's focus extends heavily into enterprise solutions, further bolstered by acquisitions such as LinkedIn and GitHub. These acquisitions complement its existing offerings and expand its market reach.\n",
      "\n",
      "In summary, while Apple excels in consumer electronics and maintains a robust ecosystem, Microsoft leads in software solutions and enterprise services, with a significant emphasis on cloud computing. Both companies continue to compete and innovate within the tech industry, but they do so from somewhat different market focuses—Apple targeting consumer products and experiences, and Microsoft focusing on software and business solutions.\n"
     ]
    },
    {
     "data": {
      "text/plain": [
       "RagResultModel(answer=\"As of the latest data available up to October 2023, Apple and Microsoft both hold strong positions in the technology sector, each excelling in different areas of the market.\\n\\nApple:\\n1. **Consumer Electronics Dominance**: Apple is a leader in consumer electronics, particularly with its iPhone, iPad, and Mac product lines. The company has a loyal customer base and is known for its premium pricing strategy, which contributes to high profit margins.\\n\\n2. **Ecosystem and Services**: Apple's ecosystem, which includes the App Store, iCloud, Apple Music, and other services, creates a seamless user experience and generates a substantial portion of its revenue. The services segment has been growing steadily, providing recurring revenue streams.\\n\\n3. **Innovation**: Apple is renowned for its innovation in hardware and design, consistently setting trends within the market. This is evidenced by its development of new product lines such as Apple Watch and AirPods, which have been quite successful.\\n\\nMicrosoft:\\n1. **Software Leadership**: Microsoft dominates the software market with its Windows operating system and Office productivity suite. These products are widely used in both consumer and enterprise environments, offering stable and recurring revenue.\\n\\n2. **Cloud Computing**: Through its Azure platform, Microsoft has become a significant player in the cloud computing sector. Azure is frequently recognized as a primary competitor to Amazon Web Services (AWS), and this segment has been a major growth driver for the company.\\n\\n3. **Enterprise Solutions**: Microsoft's focus extends heavily into enterprise solutions, further bolstered by acquisitions such as LinkedIn and GitHub. These acquisitions complement its existing offerings and expand its market reach.\\n\\nIn summary, while Apple excels in consumer electronics and maintains a robust ecosystem, Microsoft leads in software solutions and enterprise services, with a significant emphasis on cloud computing. Both companies continue to compete and innovate within the tech industry, but they do so from somewhat different market focuses—Apple targeting consumer products and experiences, and Microsoft focusing on software and business solutions.\", retriever_result=None)"
      ]
     },
     "execution_count": 98,
     "metadata": {},
     "output_type": "execute_result"
    }
   ],
   "source": [
    "# --- Question Answering ---\n",
    "print(\"\\n--- Question Answering ---\")\n",
    "query = \"Compare Apple's and Microsoft's market positions\"\n",
    "compare_query = \"\"\"\n",
    "    MATCH (c1:Company {name: 'Apple'})-[:HAS_METRIC]-(m1:FinancialMetric)\n",
    "    MATCH (c2:Company {name: 'Microsoft'})-[:HAS_METRIC]-(m2:FinancialMetric)\n",
    "    RETURN c1, c2, collect(m1) as apple_metrics, collect(m2) as microsoft_metrics\n",
    "\"\"\"\n",
    "compare_cypher_retriever = VectorCypherRetriever(\n",
    "    driver=driver,\n",
    "    index_name=\"chunkEmbeddings\",\n",
    "    embedder=embedder,\n",
    "    retrieval_query=compare_query\n",
    ")\n",
    "compare_cypher_rag = GraphRAG(llm=llm, retriever=compare_cypher_retriever)\n",
    "response = compare_cypher_rag.search(query, retriever_config={'top_k': 3})\n",
    "print(\"\\nComparison Response:\")\n",
    "print(response.answer)\n",
    "response\n"
   ]
  },
  {
   "cell_type": "code",
   "execution_count": 126,
   "id": "ca64551c",
   "metadata": {},
   "outputs": [
    {
     "name": "stdout",
     "output_type": "stream",
     "text": [
      "\n",
      "--- Text2CypherRetriever Example ---\n",
      "\n",
      "--- Text2Cypher Output ---\n",
      "Original Query: Show me all companies managed by BlackRock and the risk factors they face.\n",
      "Generated Cypher:\n",
      " MATCH (am:AssetManager {name: \"BlackRock\"})-[]-(c:Company)-[]-(rf:RiskFactor)\n",
      "RETURN c.name AS Company, rf.name AS RiskFactor\n"
     ]
    }
   ],
   "source": [
    "# --- Text2CypherRetriever Example ---\n",
    "print(\"\\n--- Text2CypherRetriever Example ---\")\n",
    "text2cypher_retriever = Text2CypherRetriever(\n",
    "    driver=driver,\n",
    "    llm=llm,\n",
    "    neo4j_schema=\"(:Chunk)-[]-(:Document)-[]-(:Cusip6)-[]-(:Company),(:Company)-[]-(:RiskFactor)(:Company)-[]-(:AssetManager)\")\n",
    "\n",
    "query = \"Show me all companies managed by BlackRock and the risk factors they face.\"\n",
    "cypher_query = text2cypher_retriever.get_search_results(query)\n",
    "print(\"\\n--- Text2Cypher Output ---\")\n",
    "print(\"Original Query:\", query)\n",
    "print(\"Generated Cypher:\\n\", cypher_query.metadata[\"cypher\"])"
   ]
  }
 ],
 "metadata": {
  "kernelspec": {
   "display_name": "base",
   "language": "python",
   "name": "python3"
  },
  "language_info": {
   "codemirror_mode": {
    "name": "ipython",
    "version": 3
   },
   "file_extension": ".py",
   "mimetype": "text/x-python",
   "name": "python",
   "nbconvert_exporter": "python",
   "pygments_lexer": "ipython3",
   "version": "3.12.7"
  }
 },
 "nbformat": 4,
 "nbformat_minor": 5
}
